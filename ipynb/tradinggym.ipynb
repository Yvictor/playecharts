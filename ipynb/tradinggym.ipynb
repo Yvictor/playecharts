{
 "cells": [
  {
   "cell_type": "code",
   "execution_count": null,
   "metadata": {},
   "outputs": [],
   "source": [
    "import numpy as np\n",
    "import pandas as pd\n",
    "from pyecharts import Kline, Overlap, EffectScatter, Line, Graph, Line, Grid, Bar\n",
    "from pyecharts import online"
   ]
  },
  {
   "cell_type": "code",
   "execution_count": null,
   "metadata": {},
   "outputs": [],
   "source": [
    "print('t')"
   ]
  },
  {
   "cell_type": "code",
   "execution_count": null,
   "metadata": {},
   "outputs": [],
   "source": [
    "from IPython.display import display, clear_output, IFrame"
   ]
  },
  {
   "cell_type": "code",
   "execution_count": 3,
   "metadata": {},
   "outputs": [],
   "source": [
    "df = pd.read_msgpack('../dataset/ts.msgpack')"
   ]
  },
  {
   "cell_type": "code",
   "execution_count": 4,
   "metadata": {},
   "outputs": [],
   "source": [
    "df.set_index('datetime', inplace=True)"
   ]
  },
  {
   "cell_type": "code",
   "execution_count": 26,
   "metadata": {},
   "outputs": [],
   "source": [
    "def set_kline_color(kline_serie, up_color, down_color, \n",
    "                    up_board_color, down_board_color):\n",
    "    kline_serie['itemStyle'] = {'color': up_color, 'color0': down_color, \n",
    "                               'borderColor': up_board_color, \n",
    "                               'borderColor0': down_board_color}\n",
    "    return kline_serie\n",
    "\n",
    "def plot_kline(df_ohlc, chart_name='Kline', symbol_name='', size=(800, 400),\n",
    "               ochl_columns=['open', 'close', 'high', 'low'], \n",
    "               zoom_percent_range=(90, 100), legend_pos='10%',\n",
    "               datazoom_share_axis=[0, ], tooltip_bg_color='rgba(50,50,50,0.7)',\n",
    "               up_color='rgba(255,0,0,0.9)', down_color='rgba(0,255,0,0.9)', \n",
    "               up_board_color='rgba(255,0,0,0.9)', \n",
    "               down_board_color='rgba(0,255,0,0.9)'):\n",
    "    kline = Kline(chart_name, is_animation=False, )\n",
    "    kline.add(symbol_name, df_ohlc.index.astype(str).tolist(),\n",
    "              df_ohlc[ochl_columns].values.tolist(),\n",
    "              datazoom_type='both', is_datazoom_show=True, \n",
    "              datazoom_range=zoom_percent_range, \n",
    "              legend_pos=legend_pos, \n",
    "              datazoom_xaxis_index=datazoom_share_axis)\n",
    "    kline._option['series'][0] = set_kline_color(kline._option['series'][0], up_color, down_color,\n",
    "                                                 up_board_color, down_board_color)\n",
    "    kline._option['tooltip']._config = dict(trigger='axis',\n",
    "                                            triggerOn='mousemove|click',\n",
    "                                            axisPointer={'type': 'cross'},\n",
    "                                            textStyle={'fontSize': 14},\n",
    "                                            backgroundColor=tooltip_bg_color,\n",
    "                                            borderColor='#333',\n",
    "                                            borderWidth=0)\n",
    "    return kline\n",
    "\n",
    "def add_efs(es, name, data, color, rotate):\n",
    "    es.add(name, [], [], symbol_size=15, effect_scale=3, effect_period=3, symbol=\"pin\")\n",
    "    es._option['series'][-1]['data'] = data\n",
    "    es._option['series'][-1]['symbolRotate'] = rotate\n",
    "    es._option['series'][-1]['label']['emphasis']._config.update(dict(formatter='pl: {@[3]}'))\n",
    "    es._option['series'][-1]['color'] = color\n",
    "    return es\n",
    "\n",
    "def add_pair_efs(es, side, trades, entry_color, cover_coler):\n",
    "    es = add_efs(es, '{}_entry'.format(side), \n",
    "             [[trade[0]['x'], trade[0]['y'], trade[0]['value'], trade[3]] for trade in trades], \n",
    "             entry_color, rotate=180 if side=='long' else 0)\n",
    "    es = add_efs(es, '{}_cover'.format(side),  \n",
    "             [[trade[1]['x'], trade[1]['y'], trade[1]['value'], trade[3]] for trade in trades], \n",
    "             cover_coler, rotate=0 if side=='long' else 180)\n",
    "    return es\n",
    "\n",
    "def trade_line(name='esline', trades=[], all_dates=[], win_color='rgba(0,255,255,0.8)', loss_color='rgba(255,0,255,0.8)'):\n",
    "    esline = Line('esline')\n",
    "    for trade in trades:\n",
    "        entry_date, cover_date, entry_p, cover_p = trade[0]['x'], trade[1]['x'], trade[0]['y'], trade[1]['y']\n",
    "        entry_index, cover_index = all_dates.index(entry_date), all_dates.index(cover_date)\n",
    "        xs = all_dates[entry_index: cover_index+1]\n",
    "        ys = np.linspace(entry_p, cover_p, num=len(xs)).tolist()\n",
    "        win_loss_point = trade[3]\n",
    "        color =  win_color if win_loss_point > 0 else loss_color\n",
    "        esline.add(f'{entry_date}->{cover_date}: {trade[2]}', [], [], is_symbol_show=False)\n",
    "        esline._option['series'][-1]['data'] = [[x, y, win_loss_point] for x, y in zip(xs, ys)]\n",
    "        esline._option['series'][-1]['lineStyle']['normal']._config.update({'color': color, 'width': 2, 'type': 'dashed'})\n",
    "        esline._option['series'][-1]['label']['emphasis']._config.update({'formatter': '{@[2]}', 'color': color})\n",
    "        esline._option['series'][-1].update(clipOverflow=False)\n",
    "        esline._option['series'][-1]['zlevel'] = 1\n",
    "    esline._option['legend'][0]['data'] = []\n",
    "    return esline\n",
    "\n",
    "def plot_trades(trades, all_dates,\n",
    "                entry_long_color='rgba(255, 0, 0, 0.75)', cover_long_color='rgba(0, 255, 50, 0.6)', \n",
    "                entry_short_color='rgba(0, 255, 0, 0.75)', cover_short_color='rgba(255, 0, 50, 0.6)',\n",
    "                win_color='rgba(0,255,255,0.8)', loss_color='rgba(255,0,255,0.8)'):\n",
    "    long_trades = [trade for trade in trades if trade[2]=='long']\n",
    "    short_trades = [trade for trade in trades if trade[2]=='short']\n",
    "    es = EffectScatter()\n",
    "    es = add_pair_efs(es, 'long', long_trades, entry_long_color, cover_long_color)\n",
    "    es = add_pair_efs(es, 'short', short_trades, entry_short_color, cover_short_color)\n",
    "    esline = trade_line(trades=trades, all_dates=all_dates, win_color=win_color, loss_color=loss_color)\n",
    "    return es, esline"
   ]
  },
  {
   "cell_type": "code",
   "execution_count": 454,
   "metadata": {},
   "outputs": [],
   "source": [
    "from copy import deepcopy\n",
    "class Base:\n",
    "    __slots__ = ()\n",
    "    def keys(self):\n",
    "        return self.__slots__\n",
    "    \n",
    "    def __getitem__(self, key):\n",
    "        return getattr(self, key)\n",
    "    \n",
    "    def __gen_container(self):\n",
    "        return ', '.join(['{}={!r}'.format(k, v) for k, v in {**self}.items()])\n",
    "    \n",
    "    def __repr__(self):\n",
    "        return '{}({})'.format(self.__class__.__name__, self.__gen_container())\n",
    "    \n",
    "class PlotKind(Base):\n",
    "    __slots__ = ('kind', 'columns', 'grid', 'config')\n",
    "    def __init__(self, kind='kline', columns=['open', 'close', 'high', 'low'], grid=0, config={}):\n",
    "        self.kind = kind\n",
    "        self.columns = columns\n",
    "        self.grid = grid\n",
    "        self.config = config\n",
    "\n",
    "        \n",
    "class PlotGrammer(Base):\n",
    "    def __init__(self, grids={0: 100, }, **kwargs):\n",
    "        self.__slots__ = tuple([k for k in kwargs]+['grids'])\n",
    "        self._grids = grids\n",
    "        self.calculate()\n",
    "        [setattr(self, k, v) for k, v in kwargs.items()]\n",
    "        \n",
    "    def calculate(self, fig_height=800):\n",
    "        grids = deepcopy(self._grids)\n",
    "        assert sum(grids.values()) == 100, 'Grids sum must 100%'\n",
    "        rescale = (100 - (60/fig_height)*100*2)/100\n",
    "        top_fit = (60/fig_height)*100\n",
    "        top, bottom = (0, 0)\n",
    "        for grid, val in list(grids.items()):\n",
    "            grids.update({grid: dict(top=(top+bottom)*rescale + top_fit + 2 if (top+bottom) else 0, \n",
    "                                     bottom=(100-(bottom+val))*rescale + top_fit + 2 if (100-(bottom+val)) else 0)})\n",
    "            bottom += val\n",
    "        self.grids = grids\n",
    "        \n",
    "    def __gen_container(self):\n",
    "        return ',\\n    '.join(['{}={!r}'.format(k, v) for k, v in {**self}.items()])\n",
    "    \n",
    "    def __repr__(self):\n",
    "        return '{}(\\n    {}\\n)'.format(self.__class__.__name__, self.__gen_container())"
   ]
  },
  {
   "cell_type": "code",
   "execution_count": 540,
   "metadata": {},
   "outputs": [
    {
     "data": {
      "text/plain": [
       "PlotGrammer(\n",
       "    twse=PlotKind(kind='kline', columns=['open', 'close', 'high', 'low'], grid=0, config={}),\n",
       "    bband=PlotKind(kind='line', columns=['bup', 'ma', 'bdw'], grid=0, config={}),\n",
       "    ordersell=PlotKind(kind='bar', columns=['order_sell'], grid=1, config={'colors': ['rgba(155,155,155, 0.7)']}),\n",
       "    osband=PlotKind(kind='line', columns=['osma', 'osdw', 'osup'], grid=1, config={'colors': ['rgba(0,255,255,0.7)', 'rgba(0,255,0,0.7)', 'rgba(255,0,0,0.7)']}),\n",
       "    grids={0: {'top': 0, 'bottom': 43.5}, 1: {'top': 60.5, 'bottom': 0}}\n",
       ")"
      ]
     },
     "execution_count": 540,
     "metadata": {},
     "output_type": "execute_result"
    }
   ],
   "source": [
    "plot_gram = PlotGrammer(twse=PlotKind(), \n",
    "                        bband=PlotKind('line', ['bup', 'ma', 'bdw'], 0), \n",
    "                        ordersell=PlotKind('bar', ['order_sell', ], 1, config={'colors': ['rgba(155,155,155, 0.7)',]}),\n",
    "                        osband=PlotKind('line', ['osma', 'osdw', 'osup'], 1, config={'colors': ['rgba(0,255,255,0.7)','rgba(0,255,0,0.7)', 'rgba(255,0,0,0.7)']}),\n",
    "                        #volume=PlotKind('bar', ['volume', ], 2),\n",
    "                        #rewardf=PlotKind('line', ['reward_fluctuant', ], 3, config={'is_fill':True, 'area_opacity': 0.4}),\n",
    "                        #grids={0: 60, 1: 15, 2: 15, 3: 10}\n",
    "                        grids={0: 60, 1: 40}\n",
    "                       )\n",
    "                    \n",
    "plot_gram"
   ]
  },
  {
   "cell_type": "code",
   "execution_count": null,
   "metadata": {},
   "outputs": [],
   "source": [
    "plot_gram = PlotGrammer(twse=PlotKind(), \n",
    "                        txf=PlotKind(grid=1),\n",
    "                        bband=PlotKind('line', ['bup', 'ma', 'bdw'], 0), \n",
    "                        ordersell=PlotKind('bar', ['order_sell', ], 2, config={'colors': ['rgba(155,155,155, 0.7)',]}),\n",
    "                        osband=PlotKind('line', ['osma', 'osdw', 'osup'], 2, config={'colors': ['rgba(0,255,255,0.7)','rgba(0,255,0,0.7)', 'rgba(255,0,0,0.7)']}),\n",
    "                        #volume=PlotKind('bar', ['volume', ], 2),\n",
    "                        #rewardf=PlotKind('line', ['reward_fluctuant', ], 3, config={'is_fill':True, 'area_opacity': 0.4}),\n",
    "                        #grids={0: 60, 1: 15, 2: 15, 3: 10}\n",
    "                        grids={0: 40, 1: 40, 2: 20}\n",
    "                       )\n",
    "                    \n",
    "plot_gram"
   ]
  },
  {
   "cell_type": "code",
   "execution_count": 536,
   "metadata": {},
   "outputs": [],
   "source": [
    "def plot_line(df, name, columns=[], colors=[], **kwargs):\n",
    "    line = Line(name)\n",
    "    for column in columns:\n",
    "        line.add(column, df.index.astype(str).tolist(), df[column].tolist(), \n",
    "                 is_symbol_show=False, is_label_emphasis=False, **kwargs)\n",
    "    if colors:\n",
    "        [line._option['series'][i].update(dict(itemStyle=dict(color=color)))  for i, color in enumerate(colors)]\n",
    "    return line\n",
    "\n",
    "def plot_bar(df, name, columns=[], colors=[], pos='10%', **kwargs):\n",
    "    bar = Bar(name, title_top=pos)\n",
    "    for column  in columns:\n",
    "        bar.add(column, df.index.astype(str).tolist(), df[column].tolist(), \n",
    "                is_label_emphasis=False, legend_pos=pos, **kwargs)\n",
    "    if colors:\n",
    "        [bar._option['series'][i].update(dict(itemStyle=dict(color=color))) for i, color in enumerate(colors)]\n",
    "    return bar"
   ]
  },
  {
   "cell_type": "code",
   "execution_count": 537,
   "metadata": {},
   "outputs": [],
   "source": [
    "def trading_plot(df, plot_grammer, figsize=(1200, 800), trades=[]):\n",
    "    grid = Grid(width=figsize[0], height=figsize[1])\n",
    "    charts = [Overlap() for g in plot_grammer['grids']]\n",
    "    plot_grammer.calculate(figsize[1])\n",
    "    all_dates = df.index.astype(str).tolist()\n",
    "    for name, plotk in {**plot_grammer}.items():\n",
    "        if isinstance(plotk, PlotKind):\n",
    "            if plotk['kind'] == 'kline':\n",
    "                plot = plot_kline(df, chart_name=name, symbol_name=name,\n",
    "                                   ochl_columns=plotk['columns'],\n",
    "                                   datazoom_share_axis=list(range(len(charts))), \n",
    "                                   **plotk['config'])\n",
    "            elif plotk['kind'] == 'line':\n",
    "                plot = plot_line(df, name=name, columns=plotk['columns'], **plotk['config'])\n",
    "            elif plotk['kind'] == 'bar':\n",
    "                plot = plot_bar(df, name=name, columns=plotk['columns'], \n",
    "                                pos=\"{}%\".format(plot_grammer['grids'][plotk['grid']]['top']),\n",
    "                                **plotk['config'])\n",
    "            else:\n",
    "                Exception('Kind: {} not implement.'.format(plotk['kind']))\n",
    "            charts[plotk['grid']].add(plot)\n",
    "    if trades:\n",
    "        es, esline = plot_trades(trades, all_dates,)\n",
    "        charts[0].add(es)\n",
    "        charts[0].add(esline)\n",
    "    [grid.add(charts[g], \n",
    "              grid_top=\"{}%\".format(vol['top']) if vol['top'] else 60, \n",
    "              grid_bottom=\"{}%\".format(vol['bottom']) if vol['bottom'] else 60) for g, vol in plot_grammer['grids'].items()]\n",
    "    grid._option.update(axisPointer={'link': {'xAxisIndex': 'all'}})\n",
    "    return grid"
   ]
  },
  {
   "cell_type": "code",
   "execution_count": 541,
   "metadata": {},
   "outputs": [],
   "source": [
    "g = trading_plot(df, plot_gram, figsize=(1200, 800), trades=trades)\n",
    "g.render()"
   ]
  },
  {
   "cell_type": "code",
   "execution_count": 542,
   "metadata": {},
   "outputs": [
    {
     "data": {
      "text/html": [
       "\n",
       "        <iframe\n",
       "            width=\"1500\"\n",
       "            height=\"850\"\n",
       "            src=\"render.html\"\n",
       "            frameborder=\"0\"\n",
       "            allowfullscreen\n",
       "        ></iframe>\n",
       "        "
      ],
      "text/plain": [
       "<IPython.lib.display.IFrame at 0x7f687bfc19b0>"
      ]
     },
     "execution_count": 542,
     "metadata": {},
     "output_type": "execute_result"
    }
   ],
   "source": [
    "IFrame('render.html', 1500, 850)"
   ]
  },
  {
   "cell_type": "code",
   "execution_count": 477,
   "metadata": {},
   "outputs": [],
   "source": [
    "df['ma'] = df['close'].rolling(20, min_periods=0).mean()\n",
    "df['std'] = df['close'].rolling(20, min_periods=0).std()\n",
    "df['bup'] = df['ma'] + 2 * df['std']\n",
    "df['bdw'] = df['ma'] - 2 * df['std']\n",
    "df['osma'] = df['order_sell'].rolling(20, min_periods=0).mean()\n",
    "df['osdw'] = df['osma']*0.8\n",
    "df['osup'] = df['osma']*1.2"
   ]
  },
  {
   "cell_type": "code",
   "execution_count": 510,
   "metadata": {},
   "outputs": [],
   "source": [
    "entry_points = df[df['entry_cover']==1]\n",
    "cover_points = df[df['entry_cover']==-1]\n",
    "trades = [[\n",
    "    {\n",
    "        'x': entry_point['datetime'].strftime('%Y-%m-%d'),\n",
    "        'y': entry_point['close'],\n",
    "        'value': entry_point['position_variation']\n",
    "    },\n",
    "    {\n",
    "        'x': cover_point['datetime'].strftime('%Y-%m-%d'),\n",
    "        'y': cover_point['close'],\n",
    "        'value': cover_point['position_variation']\n",
    "    },\n",
    "    'long' if entry_point['position_variation'] > 0 else 'short',\n",
    "    round(cover_point['reward'], 2),\n",
    "] for entry_point, cover_point in zip(\n",
    "    entry_points.reset_index().to_dict('records'),\n",
    "    cover_points.reset_index().to_dict('records'))]\n",
    "all_dates = df.index.astype(str).tolist()"
   ]
  },
  {
   "cell_type": "code",
   "execution_count": null,
   "metadata": {},
   "outputs": [],
   "source": [
    "trades"
   ]
  },
  {
   "cell_type": "code",
   "execution_count": 27,
   "metadata": {},
   "outputs": [],
   "source": [
    "kchart = plot_kline(df, symbol_name='twse')\n",
    "es, esline = plot_trades(trades, all_dates)"
   ]
  },
  {
   "cell_type": "code",
   "execution_count": 28,
   "metadata": {},
   "outputs": [],
   "source": [
    "op = Overlap(width=1200, height=800)\n",
    "op.add(kchart)\n",
    "op.add(es)\n",
    "op.add(esline)\n",
    "op.render()"
   ]
  },
  {
   "cell_type": "code",
   "execution_count": 29,
   "metadata": {},
   "outputs": [
    {
     "data": {
      "text/html": [
       "\n",
       "        <iframe\n",
       "            width=\"1500\"\n",
       "            height=\"850\"\n",
       "            src=\"render.html\"\n",
       "            frameborder=\"0\"\n",
       "            allowfullscreen\n",
       "        ></iframe>\n",
       "        "
      ],
      "text/plain": [
       "<IPython.lib.display.IFrame at 0x7f688833b0b8>"
      ]
     },
     "execution_count": 29,
     "metadata": {},
     "output_type": "execute_result"
    }
   ],
   "source": [
    "IFrame('render.html', 1500, 850)"
   ]
  },
  {
   "cell_type": "code",
   "execution_count": null,
   "metadata": {},
   "outputs": [],
   "source": []
  },
  {
   "cell_type": "code",
   "execution_count": null,
   "metadata": {},
   "outputs": [],
   "source": []
  }
 ],
 "metadata": {
  "kernelspec": {
   "display_name": "Python 3",
   "language": "python",
   "name": "python3"
  },
  "language_info": {
   "codemirror_mode": {
    "name": "ipython",
    "version": 3
   },
   "file_extension": ".py",
   "mimetype": "text/x-python",
   "name": "python",
   "nbconvert_exporter": "python",
   "pygments_lexer": "ipython3",
   "version": "3.7.0"
  }
 },
 "nbformat": 4,
 "nbformat_minor": 2
}
